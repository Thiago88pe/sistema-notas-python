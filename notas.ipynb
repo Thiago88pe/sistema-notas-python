{
 "cells": [
  {
   "cell_type": "code",
   "execution_count": 13,
   "metadata": {},
   "outputs": [
    {
     "ename": "SyntaxError",
     "evalue": "invalid syntax (<ipython-input-13-aa59a318dfd1>, line 67)",
     "output_type": "error",
     "traceback": [
      "\u001b[1;36m  File \u001b[1;32m\"<ipython-input-13-aa59a318dfd1>\"\u001b[1;36m, line \u001b[1;32m67\u001b[0m\n\u001b[1;33m    elif media < 7 and >= 4:\u001b[0m\n\u001b[1;37m                        ^\u001b[0m\n\u001b[1;31mSyntaxError\u001b[0m\u001b[1;31m:\u001b[0m invalid syntax\n"
     ]
    }
   ],
   "source": [
    "class Error(Exception):\n",
    "    pass\n",
    "\n",
    "class InputError(Error):\n",
    "    def __init__(self, message):\n",
    "        self.message = message\n",
    "\n",
    "# Toda class de execao tem que conter Error no final.\n",
    "nome = input('Nome: ')\n",
    "curso = input('Curso: ')\n",
    "while True:\n",
    "    try:\n",
    "        nota1 = int(input('Entre com uma nota de 0 à 10: '))\n",
    "        if nota1 > 10:\n",
    "            raise InputError('Nota não pode ser maior que 10.')\n",
    "        elif nota1 < 0:\n",
    "            raise InputError('Nota não pode ser menor que 0.')\n",
    "        break\n",
    "    except ValueError:\n",
    "        print('Valor inválido!')\n",
    "    except InputError as ex:\n",
    "        print(ex)\n",
    "\n",
    "while True:\n",
    "    try:\n",
    "        nota2 = int(input('Entre com uma nota de 0 à 10: '))\n",
    "        if nota2 > 10:\n",
    "            raise InputError('Nota não pode ser maior que 10.')\n",
    "        elif nota2 < 0:\n",
    "            raise InputError('Nota não pode ser menor que 0.')\n",
    "        break\n",
    "    except ValueError:\n",
    "        print('Valor inválido!')\n",
    "    except InputError as ex:\n",
    "        print(ex)\n",
    "        \n",
    "while True:\n",
    "    try:\n",
    "        nota3 = int(input('Entre com uma nota de 0 à 10: '))\n",
    "        if nota3 > 10:\n",
    "            raise InputError('Nota não pode ser maior que 10.')\n",
    "        elif nota3 < 0:\n",
    "            raise InputError('Nota não pode ser menor que 0.')\n",
    "        break\n",
    "    except ValueError:\n",
    "        print('Valor inválido!')\n",
    "    except InputError as ex:\n",
    "        print(ex)\n",
    "\n",
    "while True:\n",
    "    try:\n",
    "        nota4 = int(input('Entre com uma nota de 0 à 10: '))\n",
    "        if nota4 > 10:\n",
    "            raise InputError('Nota não pode ser maior que 10.')\n",
    "        elif nota4 < 0:\n",
    "            raise InputError('Nota não pode ser menor que 0.')\n",
    "        break\n",
    "    except ValueError:\n",
    "        print('Valor inválido!')\n",
    "    except InputError as ex:\n",
    "        print(ex)\n",
    "\n",
    "media = (nota1 + nota2 + nota3 + nota4) / 4\n",
    "\n",
    "if media >= 7:\n",
    "    print(\"Nota {} - Aprovado por média\". format(media))\n",
    "elif media < 7 and >= 4:\n",
    "    print(\"Nota {} - Recuperação\". format(media))\n",
    "else\n",
    "    print('Nota {} - Reprovado'. format(media))\n",
    "    "
   ]
  }
 ],
 "metadata": {
  "kernelspec": {
   "display_name": "Python 3",
   "language": "python",
   "name": "python3"
  },
  "language_info": {
   "codemirror_mode": {
    "name": "ipython",
    "version": 3
   },
   "file_extension": ".py",
   "mimetype": "text/x-python",
   "name": "python",
   "nbconvert_exporter": "python",
   "pygments_lexer": "ipython3",
   "version": "3.7.9"
  }
 },
 "nbformat": 4,
 "nbformat_minor": 4
}
